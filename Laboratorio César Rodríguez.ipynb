{
 "cells": [
  {
   "attachments": {},
   "cell_type": "markdown",
   "metadata": {},
   "source": [
    "# Mandar a llamar el Data Set"
   ]
  },
  {
   "cell_type": "code",
   "execution_count": 2,
   "metadata": {},
   "outputs": [],
   "source": [
    "import numpy as np\n",
    "import pandas as pd\n",
    "import matplotlib.pyplot as plt\n",
    "\n",
    "from sklearn.model_selection import train_test_split\n",
    "from sklearn.model_selection import cross_val_predict\n",
    "from sklearn.preprocessing import StandardScaler\n",
    "from sklearn.preprocessing import LabelEncoder\n",
    "\n",
    "from sklearn.metrics import accuracy_score, confusion_matrix, classification_report"
   ]
  },
  {
   "cell_type": "code",
   "execution_count": 3,
   "metadata": {},
   "outputs": [],
   "source": [
    "data= pd.read_csv(\"train.csv\")"
   ]
  },
  {
   "cell_type": "code",
   "execution_count": 8,
   "metadata": {},
   "outputs": [
    {
     "data": {
      "text/html": [
       "<div>\n",
       "<style scoped>\n",
       "    .dataframe tbody tr th:only-of-type {\n",
       "        vertical-align: middle;\n",
       "    }\n",
       "\n",
       "    .dataframe tbody tr th {\n",
       "        vertical-align: top;\n",
       "    }\n",
       "\n",
       "    .dataframe thead th {\n",
       "        text-align: right;\n",
       "    }\n",
       "</style>\n",
       "<table border=\"1\" class=\"dataframe\">\n",
       "  <thead>\n",
       "    <tr style=\"text-align: right;\">\n",
       "      <th></th>\n",
       "      <th>id</th>\n",
       "      <th>longitude</th>\n",
       "      <th>latitude</th>\n",
       "      <th>housing_median_age</th>\n",
       "      <th>total_rooms</th>\n",
       "      <th>total_bedrooms</th>\n",
       "      <th>population</th>\n",
       "      <th>households</th>\n",
       "      <th>median_income</th>\n",
       "      <th>median_house_value</th>\n",
       "      <th>ocean_proximity</th>\n",
       "    </tr>\n",
       "  </thead>\n",
       "  <tbody>\n",
       "    <tr>\n",
       "      <th>0</th>\n",
       "      <td>9744</td>\n",
       "      <td>-121.65</td>\n",
       "      <td>36.77</td>\n",
       "      <td>15</td>\n",
       "      <td>2191</td>\n",
       "      <td>358.0</td>\n",
       "      <td>1150</td>\n",
       "      <td>330</td>\n",
       "      <td>4.7969</td>\n",
       "      <td>227500.0</td>\n",
       "      <td>&lt;1H OCEAN</td>\n",
       "    </tr>\n",
       "    <tr>\n",
       "      <th>1</th>\n",
       "      <td>13893</td>\n",
       "      <td>-116.27</td>\n",
       "      <td>34.13</td>\n",
       "      <td>37</td>\n",
       "      <td>452</td>\n",
       "      <td>109.0</td>\n",
       "      <td>184</td>\n",
       "      <td>59</td>\n",
       "      <td>3.7292</td>\n",
       "      <td>65800.0</td>\n",
       "      <td>INLAND</td>\n",
       "    </tr>\n",
       "    <tr>\n",
       "      <th>2</th>\n",
       "      <td>18277</td>\n",
       "      <td>-122.07</td>\n",
       "      <td>37.34</td>\n",
       "      <td>35</td>\n",
       "      <td>1172</td>\n",
       "      <td>184.0</td>\n",
       "      <td>512</td>\n",
       "      <td>175</td>\n",
       "      <td>7.3561</td>\n",
       "      <td>500001.0</td>\n",
       "      <td>&lt;1H OCEAN</td>\n",
       "    </tr>\n",
       "    <tr>\n",
       "      <th>3</th>\n",
       "      <td>16176</td>\n",
       "      <td>-122.39</td>\n",
       "      <td>37.74</td>\n",
       "      <td>52</td>\n",
       "      <td>126</td>\n",
       "      <td>24.0</td>\n",
       "      <td>37</td>\n",
       "      <td>27</td>\n",
       "      <td>10.2264</td>\n",
       "      <td>225000.0</td>\n",
       "      <td>NEAR BAY</td>\n",
       "    </tr>\n",
       "    <tr>\n",
       "      <th>4</th>\n",
       "      <td>8843</td>\n",
       "      <td>-118.38</td>\n",
       "      <td>34.09</td>\n",
       "      <td>28</td>\n",
       "      <td>4001</td>\n",
       "      <td>1352.0</td>\n",
       "      <td>1799</td>\n",
       "      <td>1220</td>\n",
       "      <td>2.5784</td>\n",
       "      <td>272900.0</td>\n",
       "      <td>&lt;1H OCEAN</td>\n",
       "    </tr>\n",
       "    <tr>\n",
       "      <th>...</th>\n",
       "      <td>...</td>\n",
       "      <td>...</td>\n",
       "      <td>...</td>\n",
       "      <td>...</td>\n",
       "      <td>...</td>\n",
       "      <td>...</td>\n",
       "      <td>...</td>\n",
       "      <td>...</td>\n",
       "      <td>...</td>\n",
       "      <td>...</td>\n",
       "      <td>...</td>\n",
       "    </tr>\n",
       "    <tr>\n",
       "      <th>14442</th>\n",
       "      <td>557</td>\n",
       "      <td>-122.25</td>\n",
       "      <td>37.77</td>\n",
       "      <td>43</td>\n",
       "      <td>4329</td>\n",
       "      <td>1110.0</td>\n",
       "      <td>2086</td>\n",
       "      <td>1053</td>\n",
       "      <td>2.9750</td>\n",
       "      <td>243400.0</td>\n",
       "      <td>NEAR BAY</td>\n",
       "    </tr>\n",
       "    <tr>\n",
       "      <th>14443</th>\n",
       "      <td>16090</td>\n",
       "      <td>-122.48</td>\n",
       "      <td>37.71</td>\n",
       "      <td>43</td>\n",
       "      <td>3850</td>\n",
       "      <td>1018.0</td>\n",
       "      <td>1497</td>\n",
       "      <td>829</td>\n",
       "      <td>3.5296</td>\n",
       "      <td>400000.0</td>\n",
       "      <td>NEAR OCEAN</td>\n",
       "    </tr>\n",
       "    <tr>\n",
       "      <th>14444</th>\n",
       "      <td>9083</td>\n",
       "      <td>-118.17</td>\n",
       "      <td>34.69</td>\n",
       "      <td>12</td>\n",
       "      <td>4881</td>\n",
       "      <td>803.0</td>\n",
       "      <td>2188</td>\n",
       "      <td>724</td>\n",
       "      <td>4.1667</td>\n",
       "      <td>171900.0</td>\n",
       "      <td>INLAND</td>\n",
       "    </tr>\n",
       "    <tr>\n",
       "      <th>14445</th>\n",
       "      <td>13138</td>\n",
       "      <td>-121.44</td>\n",
       "      <td>38.47</td>\n",
       "      <td>5</td>\n",
       "      <td>5666</td>\n",
       "      <td>1178.0</td>\n",
       "      <td>3139</td>\n",
       "      <td>1131</td>\n",
       "      <td>3.3608</td>\n",
       "      <td>108900.0</td>\n",
       "      <td>INLAND</td>\n",
       "    </tr>\n",
       "    <tr>\n",
       "      <th>14446</th>\n",
       "      <td>11554</td>\n",
       "      <td>-117.98</td>\n",
       "      <td>33.74</td>\n",
       "      <td>29</td>\n",
       "      <td>3443</td>\n",
       "      <td>635.0</td>\n",
       "      <td>2257</td>\n",
       "      <td>620</td>\n",
       "      <td>4.7404</td>\n",
       "      <td>207500.0</td>\n",
       "      <td>&lt;1H OCEAN</td>\n",
       "    </tr>\n",
       "  </tbody>\n",
       "</table>\n",
       "<p>14447 rows × 11 columns</p>\n",
       "</div>"
      ],
      "text/plain": [
       "          id  longitude  latitude  housing_median_age  total_rooms  \\\n",
       "0       9744    -121.65     36.77                  15         2191   \n",
       "1      13893    -116.27     34.13                  37          452   \n",
       "2      18277    -122.07     37.34                  35         1172   \n",
       "3      16176    -122.39     37.74                  52          126   \n",
       "4       8843    -118.38     34.09                  28         4001   \n",
       "...      ...        ...       ...                 ...          ...   \n",
       "14442    557    -122.25     37.77                  43         4329   \n",
       "14443  16090    -122.48     37.71                  43         3850   \n",
       "14444   9083    -118.17     34.69                  12         4881   \n",
       "14445  13138    -121.44     38.47                   5         5666   \n",
       "14446  11554    -117.98     33.74                  29         3443   \n",
       "\n",
       "       total_bedrooms  population  households  median_income  \\\n",
       "0               358.0        1150         330         4.7969   \n",
       "1               109.0         184          59         3.7292   \n",
       "2               184.0         512         175         7.3561   \n",
       "3                24.0          37          27        10.2264   \n",
       "4              1352.0        1799        1220         2.5784   \n",
       "...               ...         ...         ...            ...   \n",
       "14442          1110.0        2086        1053         2.9750   \n",
       "14443          1018.0        1497         829         3.5296   \n",
       "14444           803.0        2188         724         4.1667   \n",
       "14445          1178.0        3139        1131         3.3608   \n",
       "14446           635.0        2257         620         4.7404   \n",
       "\n",
       "       median_house_value ocean_proximity  \n",
       "0                227500.0       <1H OCEAN  \n",
       "1                 65800.0          INLAND  \n",
       "2                500001.0       <1H OCEAN  \n",
       "3                225000.0        NEAR BAY  \n",
       "4                272900.0       <1H OCEAN  \n",
       "...                   ...             ...  \n",
       "14442            243400.0        NEAR BAY  \n",
       "14443            400000.0      NEAR OCEAN  \n",
       "14444            171900.0          INLAND  \n",
       "14445            108900.0          INLAND  \n",
       "14446            207500.0       <1H OCEAN  \n",
       "\n",
       "[14447 rows x 11 columns]"
      ]
     },
     "execution_count": 8,
     "metadata": {},
     "output_type": "execute_result"
    }
   ],
   "source": [
    "data"
   ]
  },
  {
   "attachments": {},
   "cell_type": "markdown",
   "metadata": {},
   "source": [
    "# Inciso 1 Columnas con Faltantes"
   ]
  },
  {
   "cell_type": "code",
   "execution_count": 9,
   "metadata": {},
   "outputs": [
    {
     "data": {
      "text/plain": [
       "['total_bedrooms']"
      ]
     },
     "execution_count": 9,
     "metadata": {},
     "output_type": "execute_result"
    }
   ],
   "source": [
    "cols_con_na= [col for col in data.columns if(data[col].isnull().mean()>0)]\n",
    "cols_con_na"
   ]
  },
  {
   "cell_type": "code",
   "execution_count": 10,
   "metadata": {},
   "outputs": [
    {
     "data": {
      "text/plain": [
       "total_bedrooms    float64\n",
       "dtype: object"
      ]
     },
     "execution_count": 10,
     "metadata": {},
     "output_type": "execute_result"
    }
   ],
   "source": [
    "data[cols_con_na].dtypes"
   ]
  },
  {
   "attachments": {},
   "cell_type": "markdown",
   "metadata": {},
   "source": [
    "Inciso 2 Determine la proporción de Faltantes"
   ]
  },
  {
   "cell_type": "code",
   "execution_count": 12,
   "metadata": {},
   "outputs": [
    {
     "data": {
      "text/plain": [
       "total_bedrooms    0.009483\n",
       "dtype: float64"
      ]
     },
     "execution_count": 12,
     "metadata": {},
     "output_type": "execute_result"
    }
   ],
   "source": [
    "prop_nan_per_col= data[cols_con_na].isnull().mean()\n",
    "prop_nan_per_col\n",
    "\n",
    "# La única columna con faltantes \"total_bedrooms\""
   ]
  },
  {
   "cell_type": "code",
   "execution_count": 13,
   "metadata": {},
   "outputs": [
    {
     "data": {
      "text/plain": [
       "['id',\n",
       " 'longitude',\n",
       " 'latitude',\n",
       " 'housing_median_age',\n",
       " 'total_rooms',\n",
       " 'total_bedrooms',\n",
       " 'population',\n",
       " 'households',\n",
       " 'median_income',\n",
       " 'median_house_value',\n",
       " 'ocean_proximity']"
      ]
     },
     "execution_count": 13,
     "metadata": {},
     "output_type": "execute_result"
    }
   ],
   "source": [
    "cols_rescatables= [col for col in data.columns if(data[col].isnull().mean()<=0.05)]\n",
    "cols_rescatables"
   ]
  },
  {
   "attachments": {},
   "cell_type": "markdown",
   "metadata": {},
   "source": [
    "### complete Case Analysis (CCA) Se eliminan filas que tienen columnas vacías"
   ]
  },
  {
   "cell_type": "code",
   "execution_count": 14,
   "metadata": {},
   "outputs": [
    {
     "data": {
      "text/plain": [
       "((14447, 11), (14310, 11))"
      ]
     },
     "execution_count": 14,
     "metadata": {},
     "output_type": "execute_result"
    }
   ],
   "source": [
    "data_noNAN= data[cols_rescatables].dropna()\n",
    "data.shape, data_noNAN.shape"
   ]
  },
  {
   "cell_type": "code",
   "execution_count": 15,
   "metadata": {},
   "outputs": [
    {
     "data": {
      "image/png": "[encoded data removed]",
      "text/plain": [
       "<Figure size 432x288 with 1 Axes>"
      ]
     },
     "metadata": {
      "needs_background": "light"
     },
     "output_type": "display_data"
    }
   ],
   "source": [
    "data['population'].hist(bins=50,density=True, color='red', alpha=0.5)\n",
    "data_noNAN['population'].hist(bins=50,density=True, color='blue', alpha=0.5)\n",
    "plt.show()"
   ]
  },
  {
   "cell_type": "code",
   "execution_count": 16,
   "metadata": {},
   "outputs": [
    {
     "data": {
      "image/png": "[encoded data removed]",
      "text/plain": [
       "<Figure size 432x288 with 1 Axes>"
      ]
     },
     "metadata": {
      "needs_background": "light"
     },
     "output_type": "display_data"
    }
   ],
   "source": [
    "data['total_bedrooms'].hist(bins=50,density=True, color='red', alpha=0.5)\n",
    "data_noNAN['total_bedrooms'].hist(bins=50,density=True, color='blue', alpha=0.5)\n",
    "plt.show()\n",
    "\n"
   ]
  },
  {
   "attachments": {},
   "cell_type": "markdown",
   "metadata": {},
   "source": [
    "# Inciso 3 Si la variable es numérica realice un análisis de cual sería el mejor método para realizar la imputación de datos, debe mostrar un bloque de código donde se muestre cada imputación y su análisis. Recuerde que puede ser:"
   ]
  },
  {
   "cell_type": "code",
   "execution_count": 17,
   "metadata": {},
   "outputs": [],
   "source": [
    "# Imputar valores faltantes en variables numéricas con la media\n",
    "\n",
    "import pandas as pd\n",
    "\n",
    "data = pd.read_csv('train.csv')\n",
    "\n",
    "for col in data.columns:\n",
    "    if data[col].dtype == 'float64' or data[col].dtype == 'int64':\n",
    "        if data[col].isna().sum() > 0 and data[col].isna().sum() < len(data)*0.05:\n",
    "            data[col].fillna(data[col].mean(), inplace=True)"
   ]
  },
  {
   "cell_type": "code",
   "execution_count": 18,
   "metadata": {},
   "outputs": [],
   "source": [
    "import pandas as pd\n",
    "\n",
    "# Cargar el dataset\n",
    "data = pd.read_csv('train.csv')\n",
    "\n",
    "# Identificar las variables numéricas con valores faltantes\n",
    "num_vars_with_missing = [var for var in data.columns if data[var].isnull().sum() > 0 and data[var].dtype != 'O']\n",
    "\n",
    "# Imputar los valores faltantes con la media en todo el dataset\n",
    "for var in num_vars_with_missing:\n",
    "    mean_val = data[var].mean()\n",
    "    data[var] = data[var].fillna(mean_val)"
   ]
  },
  {
   "attachments": {},
   "cell_type": "markdown",
   "metadata": {},
   "source": [
    "# Inciso 4 Imputación Variables Categoricas"
   ]
  },
  {
   "cell_type": "code",
   "execution_count": 19,
   "metadata": {},
   "outputs": [],
   "source": [
    "import pandas as pd\n",
    "\n",
    "\n",
    "for col in data.columns:\n",
    "    if data[col].dtype == 'object':\n",
    "        if data[col].isna().sum() > 0 and data[col].isna().sum() < len(data)*0.05:\n",
    "            data[col].fillna(data[col].mode()[0], inplace=True)"
   ]
  },
  {
   "cell_type": "code",
   "execution_count": 20,
   "metadata": {},
   "outputs": [],
   "source": [
    "import pandas as pd\n",
    "\n",
    "\n",
    "# Identificar las variables categóricas con valores faltantes\n",
    "cat_vars_with_missing = [var for var in data.columns if data[var].isnull().sum() > 0 and data[var].dtype == 'O']\n",
    "\n",
    "# Imputar los valores faltantes con la moda en todo el dataset\n",
    "for var in cat_vars_with_missing:\n",
    "    mode_val = data[var].mode()[0]\n",
    "    data[var] = data[var].fillna(mode_val)"
   ]
  },
  {
   "attachments": {},
   "cell_type": "markdown",
   "metadata": {},
   "source": [
    "# Inciso 5 Códificación de Variables Categoricas utilizando One Hote Encoding"
   ]
  },
  {
   "cell_type": "code",
   "execution_count": 21,
   "metadata": {},
   "outputs": [
    {
     "name": "stdout",
     "output_type": "stream",
     "text": [
      "      id  longitude  latitude  housing_median_age  total_rooms  \\\n",
      "0   9744    -121.65     36.77                  15         2191   \n",
      "1  13893    -116.27     34.13                  37          452   \n",
      "2  18277    -122.07     37.34                  35         1172   \n",
      "3  16176    -122.39     37.74                  52          126   \n",
      "4   8843    -118.38     34.09                  28         4001   \n",
      "\n",
      "   total_bedrooms  population  households  median_income  median_house_value  \\\n",
      "0           358.0        1150         330         4.7969            227500.0   \n",
      "1           109.0         184          59         3.7292             65800.0   \n",
      "2           184.0         512         175         7.3561            500001.0   \n",
      "3            24.0          37          27        10.2264            225000.0   \n",
      "4          1352.0        1799        1220         2.5784            272900.0   \n",
      "\n",
      "   ocean_proximity_<1H OCEAN  ocean_proximity_INLAND  ocean_proximity_ISLAND  \\\n",
      "0                          1                       0                       0   \n",
      "1                          0                       1                       0   \n",
      "2                          1                       0                       0   \n",
      "3                          0                       0                       0   \n",
      "4                          1                       0                       0   \n",
      "\n",
      "   ocean_proximity_NEAR BAY  ocean_proximity_NEAR OCEAN  \n",
      "0                         0                           0  \n",
      "1                         0                           0  \n",
      "2                         0                           0  \n",
      "3                         1                           0  \n",
      "4                         0                           0  \n"
     ]
    }
   ],
   "source": [
    "import pandas as pd\n",
    "\n",
    "\n",
    "# Seleccionar las columnas categóricas a codificar\n",
    "columnas_categoricas = ['ocean_proximity']\n",
    "\n",
    "# Aplicar One Hot Encoding\n",
    "data_encoded = pd.get_dummies(data, columns=columnas_categoricas)\n",
    "\n",
    "# Ver los resultados\n",
    "print(data_encoded.head())\n"
   ]
  },
  {
   "attachments": {},
   "cell_type": "markdown",
   "metadata": {},
   "source": [
    "# Inciso 6 Para todas las variables resultantes realice Feature Scaling según lo considere más pertinente"
   ]
  },
  {
   "cell_type": "code",
   "execution_count": 23,
   "metadata": {},
   "outputs": [
    {
     "name": "stdout",
     "output_type": "stream",
     "text": [
      "      id  longitude  latitude  housing_median_age  total_rooms  \\\n",
      "0   9744    -121.65     36.77                  15         2191   \n",
      "1  13893    -116.27     34.13                  37          452   \n",
      "2  18277    -122.07     37.34                  35         1172   \n",
      "3  16176    -122.39     37.74                  52          126   \n",
      "4   8843    -118.38     34.09                  28         4001   \n",
      "\n",
      "   total_bedrooms  population  households  median_income  median_house_value  \\\n",
      "0           358.0        1150         330         4.7969            227500.0   \n",
      "1           109.0         184          59         3.7292             65800.0   \n",
      "2           184.0         512         175         7.3561            500001.0   \n",
      "3            24.0          37          27        10.2264            225000.0   \n",
      "4          1352.0        1799        1220         2.5784            272900.0   \n",
      "\n",
      "   ocean_proximity_<1H OCEAN  ocean_proximity_INLAND  ocean_proximity_ISLAND  \\\n",
      "0                          1                       0                       0   \n",
      "1                          0                       1                       0   \n",
      "2                          1                       0                       0   \n",
      "3                          0                       0                       0   \n",
      "4                          1                       0                       0   \n",
      "\n",
      "   ocean_proximity_NEAR BAY  ocean_proximity_NEAR OCEAN  \n",
      "0                         0                           0  \n",
      "1                         0                           0  \n",
      "2                         0                           0  \n",
      "3                         1                           0  \n",
      "4                         0                           0  \n"
     ]
    }
   ],
   "source": [
    "print(data_encoded.head())\n"
   ]
  },
  {
   "cell_type": "code",
   "execution_count": 24,
   "metadata": {},
   "outputs": [
    {
     "name": "stdout",
     "output_type": "stream",
     "text": [
      "      id  longitude  latitude  housing_median_age  total_rooms  \\\n",
      "0   9744    -121.65     36.77                  15         2191   \n",
      "1  13893    -116.27     34.13                  37          452   \n",
      "2  18277    -122.07     37.34                  35         1172   \n",
      "3  16176    -122.39     37.74                  52          126   \n",
      "4   8843    -118.38     34.09                  28         4001   \n",
      "\n",
      "   total_bedrooms  population  households  median_income  median_house_value  \\\n",
      "0           358.0        1150         330         4.7969            227500.0   \n",
      "1           109.0         184          59         3.7292             65800.0   \n",
      "2           184.0         512         175         7.3561            500001.0   \n",
      "3            24.0          37          27        10.2264            225000.0   \n",
      "4          1352.0        1799        1220         2.5784            272900.0   \n",
      "\n",
      "   ocean_proximity_<1H OCEAN  ocean_proximity_INLAND  ocean_proximity_ISLAND  \\\n",
      "0                   1.123833               -0.680976               -0.011767   \n",
      "1                  -0.889812                1.468480               -0.011767   \n",
      "2                   1.123833               -0.680976               -0.011767   \n",
      "3                  -0.889812               -0.680976               -0.011767   \n",
      "4                   1.123833               -0.680976               -0.011767   \n",
      "\n",
      "   ocean_proximity_NEAR BAY  ocean_proximity_NEAR OCEAN  \n",
      "0                 -0.355258                   -0.385003  \n",
      "1                 -0.355258                   -0.385003  \n",
      "2                 -0.355258                   -0.385003  \n",
      "3                  2.814855                   -0.385003  \n",
      "4                 -0.355258                   -0.385003  \n"
     ]
    }
   ],
   "source": [
    "from sklearn.preprocessing import StandardScaler\n",
    "\n",
    "# Crear un objeto StandardScaler\n",
    "scaler = StandardScaler()\n",
    "\n",
    "# Obtener las columnas a escalar\n",
    "columnas_a_escalar = ['ocean_proximity_<1H OCEAN','ocean_proximity_INLAND','ocean_proximity_ISLAND','ocean_proximity_NEAR BAY','ocean_proximity_NEAR OCEAN']\n",
    "\n",
    "# Aplicar Feature Scaling a las columnas seleccionadas\n",
    "data_encoded[columnas_a_escalar] = scaler.fit_transform(data_encoded[columnas_a_escalar])\n",
    "\n",
    "# Ver los resultados\n",
    "print(data_encoded.head())\n"
   ]
  },
  {
   "attachments": {},
   "cell_type": "markdown",
   "metadata": {},
   "source": [
    "# Inciso 7 Crear un modelo de regresión"
   ]
  },
  {
   "cell_type": "code",
   "execution_count": 25,
   "metadata": {},
   "outputs": [],
   "source": [
    "# Creación de modelo \n",
    "from sklearn.linear_model import LinearRegression\n"
   ]
  },
  {
   "cell_type": "code",
   "execution_count": 26,
   "metadata": {},
   "outputs": [],
   "source": [
    "# Crear instancia al modelo\n",
    "model = LinearRegression()\n"
   ]
  },
  {
   "cell_type": "code",
   "execution_count": 30,
   "metadata": {},
   "outputs": [],
   "source": [
    "from sklearn.model_selection import train_test_split\n",
    "\n",
    "# Dividir los datos en conjunto de entrenamiento y prueba\n",
    "X_train, X_test, y_train, y_test = train_test_split(data_encoded.drop('population', axis=1), \n",
    "                                                    data_encoded['population'], \n",
    "                                                    test_size=0.2, \n",
    "                                                    random_state=42)\n"
   ]
  },
  {
   "cell_type": "code",
   "execution_count": 31,
   "metadata": {},
   "outputs": [
    {
     "data": {
      "text/html": [
       "<style>#sk-container-id-1 {color: black;background-color: white;}#sk-container-id-1 pre{padding: 0;}#sk-container-id-1 div.sk-toggleable {background-color: white;}#sk-container-id-1 label.sk-toggleable__label {cursor: pointer;display: block;width: 100%;margin-bottom: 0;padding: 0.3em;box-sizing: border-box;text-align: center;}#sk-container-id-1 label.sk-toggleable__label-arrow:before {content: \"▸\";float: left;margin-right: 0.25em;color: #696969;}#sk-container-id-1 label.sk-toggleable__label-arrow:hover:before {color: black;}#sk-container-id-1 div.sk-estimator:hover label.sk-toggleable__label-arrow:before {color: black;}#sk-container-id-1 div.sk-toggleable__content {max-height: 0;max-width: 0;overflow: hidden;text-align: left;background-color: #f0f8ff;}#sk-container-id-1 div.sk-toggleable__content pre {margin: 0.2em;color: black;border-radius: 0.25em;background-color: #f0f8ff;}#sk-container-id-1 input.sk-toggleable__control:checked~div.sk-toggleable__content {max-height: 200px;max-width: 100%;overflow: auto;}#sk-container-id-1 input.sk-toggleable__control:checked~label.sk-toggleable__label-arrow:before {content: \"▾\";}#sk-container-id-1 div.sk-estimator input.sk-toggleable__control:checked~label.sk-toggleable__label {background-color: #d4ebff;}#sk-container-id-1 div.sk-label input.sk-toggleable__control:checked~label.sk-toggleable__label {background-color: #d4ebff;}#sk-container-id-1 input.sk-hidden--visually {border: 0;clip: rect(1px 1px 1px 1px);clip: rect(1px, 1px, 1px, 1px);height: 1px;margin: -1px;overflow: hidden;padding: 0;position: absolute;width: 1px;}#sk-container-id-1 div.sk-estimator {font-family: monospace;background-color: #f0f8ff;border: 1px dotted black;border-radius: 0.25em;box-sizing: border-box;margin-bottom: 0.5em;}#sk-container-id-1 div.sk-estimator:hover {background-color: #d4ebff;}#sk-container-id-1 div.sk-parallel-item::after {content: \"\";width: 100%;border-bottom: 1px solid gray;flex-grow: 1;}#sk-container-id-1 div.sk-label:hover label.sk-toggleable__label {background-color: #d4ebff;}#sk-container-id-1 div.sk-serial::before {content: \"\";position: absolute;border-left: 1px solid gray;box-sizing: border-box;top: 0;bottom: 0;left: 50%;z-index: 0;}#sk-container-id-1 div.sk-serial {display: flex;flex-direction: column;align-items: center;background-color: white;padding-right: 0.2em;padding-left: 0.2em;position: relative;}#sk-container-id-1 div.sk-item {position: relative;z-index: 1;}#sk-container-id-1 div.sk-parallel {display: flex;align-items: stretch;justify-content: center;background-color: white;position: relative;}#sk-container-id-1 div.sk-item::before, #sk-container-id-1 div.sk-parallel-item::before {content: \"\";position: absolute;border-left: 1px solid gray;box-sizing: border-box;top: 0;bottom: 0;left: 50%;z-index: -1;}#sk-container-id-1 div.sk-parallel-item {display: flex;flex-direction: column;z-index: 1;position: relative;background-color: white;}#sk-container-id-1 div.sk-parallel-item:first-child::after {align-self: flex-end;width: 50%;}#sk-container-id-1 div.sk-parallel-item:last-child::after {align-self: flex-start;width: 50%;}#sk-container-id-1 div.sk-parallel-item:only-child::after {width: 0;}#sk-container-id-1 div.sk-dashed-wrapped {border: 1px dashed gray;margin: 0 0.4em 0.5em 0.4em;box-sizing: border-box;padding-bottom: 0.4em;background-color: white;}#sk-container-id-1 div.sk-label label {font-family: monospace;font-weight: bold;display: inline-block;line-height: 1.2em;}#sk-container-id-1 div.sk-label-container {text-align: center;}#sk-container-id-1 div.sk-container {/* jupyter's `normalize.less` sets `[hidden] { display: none; }` but bootstrap.min.css set `[hidden] { display: none !important; }` so we also need the `!important` here to be able to override the default hidden behavior on the sphinx rendered scikit-learn.org. See: https://github.com/scikit-learn/scikit-learn/issues/21755 */display: inline-block !important;position: relative;}#sk-container-id-1 div.sk-text-repr-fallback {display: none;}</style><div id=\"sk-container-id-1\" class=\"sk-top-container\"><div class=\"sk-text-repr-fallback\"><pre>LinearRegression()</pre><b>In a Jupyter environment, please rerun this cell to show the HTML representation or trust the notebook. <br />On GitHub, the HTML representation is unable to render, please try loading this page with nbviewer.org.</b></div><div class=\"sk-container\" hidden><div class=\"sk-item\"><div class=\"sk-estimator sk-toggleable\"><input class=\"sk-toggleable__control sk-hidden--visually\" id=\"sk-estimator-id-1\" type=\"checkbox\" checked><label for=\"sk-estimator-id-1\" class=\"sk-toggleable__label sk-toggleable__label-arrow\">LinearRegression</label><div class=\"sk-toggleable__content\"><pre>LinearRegression()</pre></div></div></div></div></div>"
      ],
      "text/plain": [
       "LinearRegression()"
      ]
     },
     "execution_count": 31,
     "metadata": {},
     "output_type": "execute_result"
    }
   ],
   "source": [
    "# Ajustar el modelo utilizando los datos de entrenamiento\n",
    "\n",
    "model.fit(X_train, y_train)"
   ]
  },
  {
   "cell_type": "code",
   "execution_count": 32,
   "metadata": {},
   "outputs": [],
   "source": [
    "y_pred = model.predict(X_test)\n"
   ]
  },
  {
   "cell_type": "code",
   "execution_count": 33,
   "metadata": {},
   "outputs": [
    {
     "name": "stdout",
     "output_type": "stream",
     "text": [
      "RMSE: 405.4570965822762\n"
     ]
    }
   ],
   "source": [
    "from sklearn.metrics import mean_squared_error\n",
    "import numpy as np\n",
    "\n",
    "rmse = np.sqrt(mean_squared_error(y_test, y_pred))\n",
    "print(\"RMSE:\", rmse)"
   ]
  }
 ],
 "metadata": {
  "kernelspec": {
   "display_name": "base",
   "language": "python",
   "name": "python3"
  },
  "language_info": {
   "codemirror_mode": {
    "name": "ipython",
    "version": 3
   },
   "file_extension": ".py",
   "mimetype": "text/x-python",
   "name": "python",
   "nbconvert_exporter": "python",
   "pygments_lexer": "ipython3",
   "version": "3.9.7"
  },
  "orig_nbformat": 4
 },
 "nbformat": 4,
 "nbformat_minor": 2
}
