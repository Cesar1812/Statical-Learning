{
 "cells": [
  {
   "cell_type": "markdown",
   "metadata": {},
   "source": [
    "# Paso 1. Se importan las librerias"
   ]
  },
  {
   "cell_type": "code",
   "execution_count": 1,
   "metadata": {},
   "outputs": [],
   "source": [
    "import pandas as pd\n",
    "from sklearn.model_selection import train_test_split\n",
    "from sklearn.preprocessing import StandardScaler\n",
    "from sklearn.ensemble import RandomForestClassifier\n",
    "from sklearn.metrics import classification_report, accuracy_score\n"
   ]
  },
  {
   "cell_type": "markdown",
   "metadata": {},
   "source": [
    "# Paso 2. Cargar los datos"
   ]
  },
  {
   "cell_type": "code",
   "execution_count": 2,
   "metadata": {},
   "outputs": [],
   "source": [
    "import pandas as pd\n",
    "\n",
    "# Carga el archivo Excel\n",
    "df = pd.read_excel('BDD-Reclamos-Consolidado-Total Reclamos.xlsx')"
   ]
  },
  {
   "cell_type": "code",
   "execution_count": 3,
   "metadata": {},
   "outputs": [
    {
     "data": {
      "text/html": [
       "<div>\n",
       "<style scoped>\n",
       "    .dataframe tbody tr th:only-of-type {\n",
       "        vertical-align: middle;\n",
       "    }\n",
       "\n",
       "    .dataframe tbody tr th {\n",
       "        vertical-align: top;\n",
       "    }\n",
       "\n",
       "    .dataframe thead th {\n",
       "        text-align: right;\n",
       "    }\n",
       "</style>\n",
       "<table border=\"1\" class=\"dataframe\">\n",
       "  <thead>\n",
       "    <tr style=\"text-align: right;\">\n",
       "      <th></th>\n",
       "      <th>Reclamos</th>\n",
       "      <th>ipcprin</th>\n",
       "      <th>Edad</th>\n",
       "      <th>DepartamentoDescripcion</th>\n",
       "      <th>Sexo</th>\n",
       "      <th>EstadoCivil</th>\n",
       "      <th>Rentabilidadantesreclamo</th>\n",
       "      <th>Segmentoantesreclamo</th>\n",
       "      <th>Area</th>\n",
       "      <th>Abandono</th>\n",
       "    </tr>\n",
       "  </thead>\n",
       "  <tbody>\n",
       "    <tr>\n",
       "      <th>0</th>\n",
       "      <td>2</td>\n",
       "      <td>3</td>\n",
       "      <td>42</td>\n",
       "      <td>GUATEMALA                                     ...</td>\n",
       "      <td>FEMENINO                                      ...</td>\n",
       "      <td>CASADO                                        ...</td>\n",
       "      <td>9046.941583</td>\n",
       "      <td>BAJO</td>\n",
       "      <td>ATENCION AL CLIENTE</td>\n",
       "      <td>No</td>\n",
       "    </tr>\n",
       "    <tr>\n",
       "      <th>1</th>\n",
       "      <td>1</td>\n",
       "      <td>2</td>\n",
       "      <td>36</td>\n",
       "      <td>GUATEMALA                                     ...</td>\n",
       "      <td>FEMENINO                                      ...</td>\n",
       "      <td>SOLTERO                                       ...</td>\n",
       "      <td>4.860650</td>\n",
       "      <td>MASIVO</td>\n",
       "      <td>ATENCION AL CLIENTE</td>\n",
       "      <td>No</td>\n",
       "    </tr>\n",
       "    <tr>\n",
       "      <th>2</th>\n",
       "      <td>1</td>\n",
       "      <td>2</td>\n",
       "      <td>48</td>\n",
       "      <td>GUATEMALA                                     ...</td>\n",
       "      <td>MASCULINO                                     ...</td>\n",
       "      <td>SOLTERO                                       ...</td>\n",
       "      <td>1279.018169</td>\n",
       "      <td>MEDIO</td>\n",
       "      <td>ATENCION AL CLIENTE</td>\n",
       "      <td>No</td>\n",
       "    </tr>\n",
       "    <tr>\n",
       "      <th>3</th>\n",
       "      <td>1</td>\n",
       "      <td>3</td>\n",
       "      <td>41</td>\n",
       "      <td>ZACAPA                                        ...</td>\n",
       "      <td>MASCULINO                                     ...</td>\n",
       "      <td>CASADO                                        ...</td>\n",
       "      <td>13546.512618</td>\n",
       "      <td>PRIVADO</td>\n",
       "      <td>ATENCION AL CLIENTE</td>\n",
       "      <td>No</td>\n",
       "    </tr>\n",
       "    <tr>\n",
       "      <th>4</th>\n",
       "      <td>1</td>\n",
       "      <td>5</td>\n",
       "      <td>50</td>\n",
       "      <td>GUATEMALA                                     ...</td>\n",
       "      <td>MASCULINO                                     ...</td>\n",
       "      <td>CASADO                                        ...</td>\n",
       "      <td>14727.358352</td>\n",
       "      <td>ALTO</td>\n",
       "      <td>EMPRESARIAL</td>\n",
       "      <td>No</td>\n",
       "    </tr>\n",
       "    <tr>\n",
       "      <th>...</th>\n",
       "      <td>...</td>\n",
       "      <td>...</td>\n",
       "      <td>...</td>\n",
       "      <td>...</td>\n",
       "      <td>...</td>\n",
       "      <td>...</td>\n",
       "      <td>...</td>\n",
       "      <td>...</td>\n",
       "      <td>...</td>\n",
       "      <td>...</td>\n",
       "    </tr>\n",
       "    <tr>\n",
       "      <th>3731</th>\n",
       "      <td>1</td>\n",
       "      <td>0</td>\n",
       "      <td>67</td>\n",
       "      <td>GUATEMALA                                     ...</td>\n",
       "      <td>MASCULINO                                     ...</td>\n",
       "      <td>SOLTERO                                       ...</td>\n",
       "      <td>0.000000</td>\n",
       "      <td>SIN SALDO</td>\n",
       "      <td>CABLE</td>\n",
       "      <td>No</td>\n",
       "    </tr>\n",
       "    <tr>\n",
       "      <th>3732</th>\n",
       "      <td>1</td>\n",
       "      <td>6</td>\n",
       "      <td>41</td>\n",
       "      <td>GUATEMALA                                     ...</td>\n",
       "      <td>MASCULINO                                     ...</td>\n",
       "      <td>CASADO                                        ...</td>\n",
       "      <td>243.493838</td>\n",
       "      <td>BAJO</td>\n",
       "      <td>ATENCION AL CLIENTE</td>\n",
       "      <td>No</td>\n",
       "    </tr>\n",
       "    <tr>\n",
       "      <th>3733</th>\n",
       "      <td>1</td>\n",
       "      <td>0</td>\n",
       "      <td>45</td>\n",
       "      <td>GUATEMALA                                     ...</td>\n",
       "      <td>FEMENINO                                      ...</td>\n",
       "      <td>CASADO                                        ...</td>\n",
       "      <td>0.000000</td>\n",
       "      <td>SIN SALDO</td>\n",
       "      <td>NO CODIFICADO</td>\n",
       "      <td>No</td>\n",
       "    </tr>\n",
       "    <tr>\n",
       "      <th>3734</th>\n",
       "      <td>1</td>\n",
       "      <td>0</td>\n",
       "      <td>38</td>\n",
       "      <td>GUATEMALA                                     ...</td>\n",
       "      <td>FEMENINO                                      ...</td>\n",
       "      <td>SOLTERO                                       ...</td>\n",
       "      <td>0.000000</td>\n",
       "      <td>SIN SALDO</td>\n",
       "      <td>NO CODIFICADO</td>\n",
       "      <td>No</td>\n",
       "    </tr>\n",
       "    <tr>\n",
       "      <th>3735</th>\n",
       "      <td>2</td>\n",
       "      <td>2</td>\n",
       "      <td>36</td>\n",
       "      <td>GUATEMALA                                     ...</td>\n",
       "      <td>MASCULINO                                     ...</td>\n",
       "      <td>CASADO                                        ...</td>\n",
       "      <td>96.423115</td>\n",
       "      <td>BAJO</td>\n",
       "      <td>ATENCION AL CLIENTE</td>\n",
       "      <td>No</td>\n",
       "    </tr>\n",
       "  </tbody>\n",
       "</table>\n",
       "<p>3736 rows × 10 columns</p>\n",
       "</div>"
      ],
      "text/plain": [
       "      Reclamos  ipcprin  Edad  \\\n",
       "0            2        3    42   \n",
       "1            1        2    36   \n",
       "2            1        2    48   \n",
       "3            1        3    41   \n",
       "4            1        5    50   \n",
       "...        ...      ...   ...   \n",
       "3731         1        0    67   \n",
       "3732         1        6    41   \n",
       "3733         1        0    45   \n",
       "3734         1        0    38   \n",
       "3735         2        2    36   \n",
       "\n",
       "                                DepartamentoDescripcion  \\\n",
       "0     GUATEMALA                                     ...   \n",
       "1     GUATEMALA                                     ...   \n",
       "2     GUATEMALA                                     ...   \n",
       "3     ZACAPA                                        ...   \n",
       "4     GUATEMALA                                     ...   \n",
       "...                                                 ...   \n",
       "3731  GUATEMALA                                     ...   \n",
       "3732  GUATEMALA                                     ...   \n",
       "3733  GUATEMALA                                     ...   \n",
       "3734  GUATEMALA                                     ...   \n",
       "3735  GUATEMALA                                     ...   \n",
       "\n",
       "                                                   Sexo  \\\n",
       "0     FEMENINO                                      ...   \n",
       "1     FEMENINO                                      ...   \n",
       "2     MASCULINO                                     ...   \n",
       "3     MASCULINO                                     ...   \n",
       "4     MASCULINO                                     ...   \n",
       "...                                                 ...   \n",
       "3731  MASCULINO                                     ...   \n",
       "3732  MASCULINO                                     ...   \n",
       "3733  FEMENINO                                      ...   \n",
       "3734  FEMENINO                                      ...   \n",
       "3735  MASCULINO                                     ...   \n",
       "\n",
       "                                            EstadoCivil  \\\n",
       "0     CASADO                                        ...   \n",
       "1     SOLTERO                                       ...   \n",
       "2     SOLTERO                                       ...   \n",
       "3     CASADO                                        ...   \n",
       "4     CASADO                                        ...   \n",
       "...                                                 ...   \n",
       "3731  SOLTERO                                       ...   \n",
       "3732  CASADO                                        ...   \n",
       "3733  CASADO                                        ...   \n",
       "3734  SOLTERO                                       ...   \n",
       "3735  CASADO                                        ...   \n",
       "\n",
       "      Rentabilidadantesreclamo Segmentoantesreclamo                 Area  \\\n",
       "0                  9046.941583                 BAJO  ATENCION AL CLIENTE   \n",
       "1                     4.860650               MASIVO  ATENCION AL CLIENTE   \n",
       "2                  1279.018169                MEDIO  ATENCION AL CLIENTE   \n",
       "3                 13546.512618              PRIVADO  ATENCION AL CLIENTE   \n",
       "4                 14727.358352                 ALTO          EMPRESARIAL   \n",
       "...                        ...                  ...                  ...   \n",
       "3731                  0.000000            SIN SALDO                CABLE   \n",
       "3732                243.493838                 BAJO  ATENCION AL CLIENTE   \n",
       "3733                  0.000000            SIN SALDO        NO CODIFICADO   \n",
       "3734                  0.000000            SIN SALDO        NO CODIFICADO   \n",
       "3735                 96.423115                 BAJO  ATENCION AL CLIENTE   \n",
       "\n",
       "     Abandono  \n",
       "0          No  \n",
       "1          No  \n",
       "2          No  \n",
       "3          No  \n",
       "4          No  \n",
       "...       ...  \n",
       "3731       No  \n",
       "3732       No  \n",
       "3733       No  \n",
       "3734       No  \n",
       "3735       No  \n",
       "\n",
       "[3736 rows x 10 columns]"
      ]
     },
     "execution_count": 3,
     "metadata": {},
     "output_type": "execute_result"
    }
   ],
   "source": [
    "df"
   ]
  },
  {
   "cell_type": "markdown",
   "metadata": {},
   "source": [
    "# Paso 3. Preprocesamiendo de Datos"
   ]
  },
  {
   "cell_type": "code",
   "execution_count": 4,
   "metadata": {},
   "outputs": [],
   "source": [
    "# Imputar Valores Faltantes en Variables Numérica\n",
    "df['Reclamos'].fillna(df['Reclamos'].mean(), inplace=True)\n",
    "df['ipcprin'].fillna(df['ipcprin'].mean(), inplace=True)\n",
    "df['Edad'].fillna(df['Edad'].mean(), inplace=True)\n",
    "df['Rentabilidadantesreclamo'].fillna(df['Rentabilidadantesreclamo'].mean(), inplace=True)\n"
   ]
  },
  {
   "cell_type": "code",
   "execution_count": 5,
   "metadata": {},
   "outputs": [],
   "source": [
    "# Tratamiento de Outliers utilizando el metódo de Winsorizing para limitar los valores extremos\n",
    "\n",
    "from scipy.stats.mstats import winsorize\n",
    "\n",
    "df['Reclamos'] = winsorize(df['Reclamos'], limits=[0.05, 0.05])\n",
    "df['ipcprin'] = winsorize(df['ipcprin'], limits=[0.05, 0.05])\n",
    "df['Edad'] = winsorize(df['Edad'], limits=[0.05, 0.05])\n",
    "df['Rentabilidadantesreclamo'] = winsorize(df['Rentabilidadantesreclamo'], limits=[0.05, 0.05])\n"
   ]
  },
  {
   "cell_type": "code",
   "execution_count": 6,
   "metadata": {},
   "outputs": [],
   "source": [
    "#One-Hot Encoding para Variables Categóricas\n",
    "df = pd.get_dummies(df, columns=['Segmentoantesreclamo', 'EstadoCivil', 'Sexo', 'DepartamentoDescripcion', 'Area'], drop_first=True)\n"
   ]
  },
  {
   "cell_type": "code",
   "execution_count": 7,
   "metadata": {},
   "outputs": [],
   "source": [
    "from sklearn.model_selection import train_test_split\n"
   ]
  },
  {
   "cell_type": "code",
   "execution_count": 8,
   "metadata": {},
   "outputs": [],
   "source": [
    "# División de Datos en Entrenamiento y Prueba\n",
    "X = df.drop(['Abandono'], axis=1)  # Variables independientes\n",
    "y = df['Abandono']  # Variable objetivo\n",
    "\n",
    "X_train, X_test, y_train, y_test = train_test_split(X, y, test_size=0.2, random_state=42)"
   ]
  },
  {
   "cell_type": "code",
   "execution_count": 9,
   "metadata": {},
   "outputs": [],
   "source": [
    "from sklearn.preprocessing import StandardScaler\n"
   ]
  },
  {
   "cell_type": "markdown",
   "metadata": {},
   "source": [
    "# Paso 4. Modelado"
   ]
  },
  {
   "cell_type": "code",
   "execution_count": 10,
   "metadata": {},
   "outputs": [],
   "source": [
    "from sklearn.ensemble import RandomForestClassifier\n"
   ]
  },
  {
   "cell_type": "code",
   "execution_count": 11,
   "metadata": {},
   "outputs": [
    {
     "data": {
      "text/html": [
       "<style>#sk-container-id-1 {color: black;}#sk-container-id-1 pre{padding: 0;}#sk-container-id-1 div.sk-toggleable {background-color: white;}#sk-container-id-1 label.sk-toggleable__label {cursor: pointer;display: block;width: 100%;margin-bottom: 0;padding: 0.3em;box-sizing: border-box;text-align: center;}#sk-container-id-1 label.sk-toggleable__label-arrow:before {content: \"▸\";float: left;margin-right: 0.25em;color: #696969;}#sk-container-id-1 label.sk-toggleable__label-arrow:hover:before {color: black;}#sk-container-id-1 div.sk-estimator:hover label.sk-toggleable__label-arrow:before {color: black;}#sk-container-id-1 div.sk-toggleable__content {max-height: 0;max-width: 0;overflow: hidden;text-align: left;background-color: #f0f8ff;}#sk-container-id-1 div.sk-toggleable__content pre {margin: 0.2em;color: black;border-radius: 0.25em;background-color: #f0f8ff;}#sk-container-id-1 input.sk-toggleable__control:checked~div.sk-toggleable__content {max-height: 200px;max-width: 100%;overflow: auto;}#sk-container-id-1 input.sk-toggleable__control:checked~label.sk-toggleable__label-arrow:before {content: \"▾\";}#sk-container-id-1 div.sk-estimator input.sk-toggleable__control:checked~label.sk-toggleable__label {background-color: #d4ebff;}#sk-container-id-1 div.sk-label input.sk-toggleable__control:checked~label.sk-toggleable__label {background-color: #d4ebff;}#sk-container-id-1 input.sk-hidden--visually {border: 0;clip: rect(1px 1px 1px 1px);clip: rect(1px, 1px, 1px, 1px);height: 1px;margin: -1px;overflow: hidden;padding: 0;position: absolute;width: 1px;}#sk-container-id-1 div.sk-estimator {font-family: monospace;background-color: #f0f8ff;border: 1px dotted black;border-radius: 0.25em;box-sizing: border-box;margin-bottom: 0.5em;}#sk-container-id-1 div.sk-estimator:hover {background-color: #d4ebff;}#sk-container-id-1 div.sk-parallel-item::after {content: \"\";width: 100%;border-bottom: 1px solid gray;flex-grow: 1;}#sk-container-id-1 div.sk-label:hover label.sk-toggleable__label {background-color: #d4ebff;}#sk-container-id-1 div.sk-serial::before {content: \"\";position: absolute;border-left: 1px solid gray;box-sizing: border-box;top: 0;bottom: 0;left: 50%;z-index: 0;}#sk-container-id-1 div.sk-serial {display: flex;flex-direction: column;align-items: center;background-color: white;padding-right: 0.2em;padding-left: 0.2em;position: relative;}#sk-container-id-1 div.sk-item {position: relative;z-index: 1;}#sk-container-id-1 div.sk-parallel {display: flex;align-items: stretch;justify-content: center;background-color: white;position: relative;}#sk-container-id-1 div.sk-item::before, #sk-container-id-1 div.sk-parallel-item::before {content: \"\";position: absolute;border-left: 1px solid gray;box-sizing: border-box;top: 0;bottom: 0;left: 50%;z-index: -1;}#sk-container-id-1 div.sk-parallel-item {display: flex;flex-direction: column;z-index: 1;position: relative;background-color: white;}#sk-container-id-1 div.sk-parallel-item:first-child::after {align-self: flex-end;width: 50%;}#sk-container-id-1 div.sk-parallel-item:last-child::after {align-self: flex-start;width: 50%;}#sk-container-id-1 div.sk-parallel-item:only-child::after {width: 0;}#sk-container-id-1 div.sk-dashed-wrapped {border: 1px dashed gray;margin: 0 0.4em 0.5em 0.4em;box-sizing: border-box;padding-bottom: 0.4em;background-color: white;}#sk-container-id-1 div.sk-label label {font-family: monospace;font-weight: bold;display: inline-block;line-height: 1.2em;}#sk-container-id-1 div.sk-label-container {text-align: center;}#sk-container-id-1 div.sk-container {/* jupyter's `normalize.less` sets `[hidden] { display: none; }` but bootstrap.min.css set `[hidden] { display: none !important; }` so we also need the `!important` here to be able to override the default hidden behavior on the sphinx rendered scikit-learn.org. See: https://github.com/scikit-learn/scikit-learn/issues/21755 */display: inline-block !important;position: relative;}#sk-container-id-1 div.sk-text-repr-fallback {display: none;}</style><div id=\"sk-container-id-1\" class=\"sk-top-container\"><div class=\"sk-text-repr-fallback\"><pre>RandomForestClassifier(random_state=42)</pre><b>In a Jupyter environment, please rerun this cell to show the HTML representation or trust the notebook. <br />On GitHub, the HTML representation is unable to render, please try loading this page with nbviewer.org.</b></div><div class=\"sk-container\" hidden><div class=\"sk-item\"><div class=\"sk-estimator sk-toggleable\"><input class=\"sk-toggleable__control sk-hidden--visually\" id=\"sk-estimator-id-1\" type=\"checkbox\" checked><label for=\"sk-estimator-id-1\" class=\"sk-toggleable__label sk-toggleable__label-arrow\">RandomForestClassifier</label><div class=\"sk-toggleable__content\"><pre>RandomForestClassifier(random_state=42)</pre></div></div></div></div></div>"
      ],
      "text/plain": [
       "RandomForestClassifier(random_state=42)"
      ]
     },
     "execution_count": 11,
     "metadata": {},
     "output_type": "execute_result"
    }
   ],
   "source": [
    "model = RandomForestClassifier(random_state=42)\n",
    "model.fit(X_train, y_train)"
   ]
  },
  {
   "cell_type": "markdown",
   "metadata": {},
   "source": [
    "# Paso 5. Evaluación de Modelo"
   ]
  },
  {
   "cell_type": "code",
   "execution_count": 12,
   "metadata": {},
   "outputs": [
    {
     "name": "stdout",
     "output_type": "stream",
     "text": [
      "Accuracy: 0.8957219251336899\n",
      "Classification Report:\n",
      "              precision    recall  f1-score   support\n",
      "\n",
      "          No       0.90      0.99      0.94       661\n",
      "          Si       0.71      0.17      0.28        87\n",
      "\n",
      "    accuracy                           0.90       748\n",
      "   macro avg       0.81      0.58      0.61       748\n",
      "weighted avg       0.88      0.90      0.87       748\n",
      "\n"
     ]
    }
   ],
   "source": [
    "y_pred = model.predict(X_test)\n",
    "accuracy = accuracy_score(y_test, y_pred)\n",
    "report = classification_report(y_test, y_pred)\n",
    "print(f'Accuracy: {accuracy}')\n",
    "print(f'Classification Report:\\n{report}')\n"
   ]
  }
 ],
 "metadata": {
  "kernelspec": {
   "display_name": "base",
   "language": "python",
   "name": "python3"
  },
  "language_info": {
   "codemirror_mode": {
    "name": "ipython",
    "version": 3
   },
   "file_extension": ".py",
   "mimetype": "text/x-python",
   "name": "python",
   "nbconvert_exporter": "python",
   "pygments_lexer": "ipython3",
   "version": "3.9.7"
  },
  "orig_nbformat": 4
 },
 "nbformat": 4,
 "nbformat_minor": 2
}
